# IMPORT LIBARIES AND IMPORT DATASET 


import numpy as np 
import pandas as pd 
import seaborn as sns
import matplotlib.pyplot as plt


df = pd.read_csv("22days_of_flood.csv")
df.head()


# PREPROCESSING


print(df.shape)
print(df.columns.tolist())


flood_related_cols = [
    'temperature_2m_mean','temperature_2m_min', 'temperature_2m_max', 'precipitation_mean', 'precipitation_min', 'precipitation_max', 'rain_mean', 'rain_min', 'rain_max', 'showers_mean', 'showers_min',
    'showers_max', 'relative_humidity_2m_min', 'relative_humidity_2m_max', 
    'relative_humidity_2m_mean', 'cloud_cover_mean', 'cloud_cover_min', 'cloud_cover_max'
]


df_numeric = df.select_dtypes(include=['number'])
part_b = [col for col in df_numeric.columns if col not in flood_related_cols]


from sklearn.feature_selection import mutual_info_regression

X = df_numerical.drop(columns=flood_related_cols)
results = {}

for target in flood_related_cols:
    y = df_numerical[target]
    mi_scores = mutual_info_regression(X, y, discrete_features='auto', random_state=0)
    results[target] = pd.Series(mi_scores, index=X.columns)

mi_df = pd.DataFrame(results)
mi_df["avg_mi"] = mi_df.mean(axis=1)
mi_df_sorted = mi_df.sort_values("avg_mi", ascending=False)

selected_b = mi_df_sorted[mi_df_sorted["avg_mi"] > 0.02].index.tolist()
df_mi = df[flood_related_cols + selected_b]


plt.figure(figsize=(18, 10))
sns.barplot(data=mi_df_sorted.reset_index(), x="avg_mi", y="index")
plt.title("Mutual Information trung bình với các biến liên quan đến lũ")
plt.xlabel("Avg Mutual Information")
plt.ylabel("Biến phần B")
plt.tight_layout()
plt.show()


df = pd.read_csv("22days_of_flood.csv")

flood_related_cols = [
    'temperature_2m_mean','temperature_2m_min', 'temperature_2m_max', 'precipitation_mean', 'precipitation_min', 'precipitation_max', 'rain_mean', 'rain_min', 'rain_max', 'showers_mean', 'showers_min',
    'showers_max', 'relative_humidity_2m_min', 'relative_humidity_2m_max', 
    'relative_humidity_2m_mean', 'cloud_cover_mean', 'cloud_cover_min', 'cloud_cover_max'
]

df_numerical = df.select_dtypes(include=["number"])
print(len(df_numerical))
# Lọc lại phần A và B
A = [col for col in flood_related_cols if col in df_numerical.columns]
B = [col for col in df_numerical.columns if col not in A]

# Bước 3: Tính ma trận tương quan
corr_matrix = df_numerical.corr()

# Ma trận tương quan A ↔ A
corr_AA = corr_matrix.loc[A, A]

# Ma trận tương quan A ↔ B
corr_AB = corr_matrix.loc[A, B]

# In ra
print("🔷 Tương quan giữa các biến trong phần A:")
display(corr_AA)

print("\n🔶 Tương quan giữa các biến phần A với phần B:")
display(corr_AB)


plt.figure(figsize=(8, 6))
sns.heatmap(corr_AA, fmt=".2f", cmap="coolwarm", square=True)
plt.title("Tuong quan trong phan A")
plt.tight_layout()
plt.show()


plt.figure(figsize=(16, 8))
sns.heatmap(corr_AB, fmt=".2f", cmap="coolwarm", square=True)
plt.title("Tuong quan trong phan B")
plt.tight_layout()
plt.show()


df = pd.read_csv("22days_of_flood.csv")
all_columns = set(df.columns)
part_a = set(flood_related_cols)
part_b = list(all_columns - part_a)


corr_matrix = df[flood_related_cols].corrwith(df[part_b], axis=0).abs()

top_10_corr = corr_matrix.sort_values(ascending=False).head(10)

top_10_vars = top_10_corr.index.tolist()
corr_heatmap = df[flood_related_cols + top_10_vars].corr()

plt.figure(figsize=(14, 10))
sns.heatmap(corr_heatmap.loc[flood_related_cols, top_10_vars], annot=True, cmap="coolwarm", fmt=".2f")
plt.title("Tương quan giữa các biến phần A (liên quan đến lũ) và Top 10 biến phần B")
plt.tight_layout()
plt.show()


print(top_10_vars)


# Lọc các cột trong phần B có kiểu dữ liệu số
part_b_numeric = [col for col in part_b if pd.api.types.is_numeric_dtype(df[col])]

# Tính tương quan trung bình giữa mỗi cột B numeric với toàn bộ các cột A
mean_corrs = {}

for col_b in part_b_numeric:
    correlations = df[flood_related_cols].corrwith(df[col_b])
    mean_corrs[col_b] = correlations.abs().mean()

# Đưa vào DataFrame và lọc theo ngưỡng tương quan trung bình > 0.6
mean_corrs_df = pd.DataFrame.from_dict(mean_corrs, orient='index', columns=['mean_corr_with_A'])
mean_corrs_df_sorted = mean_corrs_df.sort_values(by='mean_corr_with_A', ascending=False)
selected_features = mean_corrs_df_sorted[mean_corrs_df_sorted['mean_corr_with_A'] > 0.6]

selected_features






# Tính ma trận tương quan giữa các cột trong phần A với các cột đã được chọn từ phần B (tương quan trung bình > 0.6)
selected_cols_b = selected_features.index.tolist()
corr_matrix_ab = df[flood_related_cols + selected_cols_b].corr()

# Trích xuất ma trận con: A (hàng) x B (cột)
corr_submatrix = corr_matrix_ab.loc[flood_related_cols, selected_cols_b].abs()

# Tính số lượng biến B có tương quan > 0.6 với từng biến A
strong_corr_counts = (corr_submatrix > 0.4).sum(axis=1)
print(strong_corr_counts)
# Tìm biến A có nhiều liên hệ mạnh nhất với các biến B
most_connected_feature = strong_corr_counts.idxmax()
most_connected_feature, strong_corr_counts[most_connected_feature]



selected_cols_b = selected_features.index.tolist()

# Tính ma trận tương quan giữa phần A và phần B đã chọn
corr_matrix_ab = df[flood_related_cols + selected_cols_b].corr()

# Lấy ma trận con: hàng là A, cột là B
corr_submatrix = corr_matrix_ab.loc[flood_related_cols, selected_cols_b].abs()

# Tính trung bình tương quan của mỗi biến A với các biến B
mean_corrs_A = corr_submatrix.mean(axis=1)

# Lọc ra những biến A có trung bình tương quan > 0.4
good_A_features = mean_corrs_A[mean_corrs_A > 0.4].index.tolist()

# In danh sách biến A mạnh
print("Biến A có tương quan trung bình > 0.4 với các biến B:")
print(good_A_features)

# Vẽ heatmap các biến A được chọn với các biến B
plt.figure(figsize=(14, 8))
sns.heatmap(corr_submatrix.loc[good_A_features], cmap="coolwarm", fmt=".2f")
plt.title("Tương quan giữa các biến A (tốt) và các biến B đã chọn")
plt.tight_layout()
plt.show()

